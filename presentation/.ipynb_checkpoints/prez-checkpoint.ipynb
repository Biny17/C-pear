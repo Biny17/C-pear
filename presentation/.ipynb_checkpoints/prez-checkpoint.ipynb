{
 "cells": [
  {
   "cell_type": "markdown",
   "id": "d964be0b",
   "metadata": {
    "slideshow": {
     "slide_type": "slide"
    }
   },
   "source": [
    "# PART I"
   ]
  },
  {
   "cell_type": "code",
   "execution_count": 8,
   "id": "d20d5467",
   "metadata": {
    "slideshow": {
     "slide_type": "subslide"
    }
   },
   "outputs": [
    {
     "name": "stdout",
     "output_type": "stream",
     "text": [
      "hello 4\n"
     ]
    }
   ],
   "source": [
    "a = 4\n",
    "print(f\"hello {a}\")"
   ]
  },
  {
   "cell_type": "code",
   "execution_count": 9,
   "id": "f6c0c940",
   "metadata": {
    "slideshow": {
     "slide_type": "subslide"
    }
   },
   "outputs": [
    {
     "name": "stdout",
     "output_type": "stream",
     "text": [
      "mon nombre pref: 256\n"
     ]
    }
   ],
   "source": [
    "n = 2**8\n",
    "print(f\"mon nombre pref: {n}\")"
   ]
  },
  {
   "cell_type": "markdown",
   "id": "c5d0cb7a",
   "metadata": {
    "slideshow": {
     "slide_type": "slide"
    }
   },
   "source": [
    "# IL FAIT BEAU\n",
    "\n",
    "aziuehruizaheuirhazeiurh"
   ]
  },
  {
   "cell_type": "code",
   "execution_count": 7,
   "id": "5de9d1d3",
   "metadata": {
    "slideshow": {
     "slide_type": "slide"
    }
   },
   "outputs": [
    {
     "name": "stdout",
     "output_type": "stream",
     "text": [
      "\n",
      "*\n",
      "**\n",
      "***\n",
      "****\n",
      "*****\n",
      "******\n",
      "*******\n",
      "********\n",
      "*******\n",
      "******\n",
      "*****\n",
      "****\n",
      "***\n",
      "**\n",
      "*\n"
     ]
    }
   ],
   "source": [
    "pattern = [\"*\" * i for i in range(8)]\n",
    "pattern += [\"*\" * (8-i) for i in range(8)]\n",
    "print(\"\\n\".join(pattern))"
   ]
  },
  {
   "cell_type": "code",
   "execution_count": null,
   "id": "ac7afcae",
   "metadata": {},
   "outputs": [],
   "source": []
  }
 ],
 "metadata": {
  "kernelspec": {
   "display_name": "Python 3",
   "language": "python",
   "name": "python3"
  },
  "language_info": {
   "codemirror_mode": {
    "name": "ipython",
    "version": 3
   },
   "file_extension": ".py",
   "mimetype": "text/x-python",
   "name": "python",
   "nbconvert_exporter": "python",
   "pygments_lexer": "ipython3",
   "version": "3.10.17"
  }
 },
 "nbformat": 4,
 "nbformat_minor": 5
}
