{
 "cells": [
  {
   "cell_type": "code",
   "execution_count": 2,
   "id": "82805e1b",
   "metadata": {
    "slideshow": {
     "slide_type": "slide"
    },
    "tags": [
     "hide_input"
    ]
   },
   "outputs": [
    {
     "data": {
      "text/markdown": [
       "```c\n",
       "#include <stdio.h>\n",
       "\n",
       "int\tmain(void)\n",
       "{\n",
       "\tprintf(\"%s %lu\\n\", \"sizeof(char):\", sizeof(char));\n",
       "\tprintf(\"%s %lu\\n\", \"sizeof(int):\", sizeof(int));\n",
       "\tprintf(\"%s %lu\\n\", \"sizeof(long):\", sizeof(long));\n",
       "\tprintf(\"%s %lu\\n\", \"sizeof(void*):\", sizeof(void*));\n",
       "\tprintf(\"%s %lu\\n\", \"sizeof(int**):\", sizeof(int**));\n",
       "\tprintf(\"%s %lu\\n\", \"sizeof(size_t):\", sizeof(size_t));\n",
       "\tprintf(\"%s %lu\\n\", \"sizeof(unsigned char):\", sizeof(unsigned char));\n",
       "\tprintf(\"%s %lu\\n\", \"sizeof(unsigned int):\", sizeof(unsigned int));\n",
       "\tprintf(\"%s %lu\\n\", \"sizeof(unsigned long):\", sizeof(unsigned long));\n",
       "}\n",
       "\n",
       "```"
      ],
      "text/plain": [
       "<IPython.core.display.Markdown object>"
      ]
     },
     "metadata": {},
     "output_type": "display_data"
    }
   ],
   "source": [
    "from IPython.display import Markdown, display\n",
    "with open(r\"code/sizeoftypes.c\") as f:\n",
    "    code = f.read()\n",
    "display(Markdown(f\"```c\\n{code}\\n```\"))"
   ]
  },
  {
   "cell_type": "markdown",
   "id": "d964be0b",
   "metadata": {
    "slideshow": {
     "slide_type": "slide"
    }
   },
   "source": [
    "# Pointeurs ➡️\n",
    "\n",
    "Une variable qui stocke une adresse mémoire est un pointeur."
   ]
  },
  {
   "cell_type": "markdown",
   "id": "1c991bf4",
   "metadata": {
    "slideshow": {
     "slide_type": "subslide"
    }
   },
   "source": [
    "## La mémoire\n",
    "\n",
    "Dans un ordinateur tout est stocké en mémoire, représenté par des 0/1  \n",
    "Les images 🖼️ textes ✍️ nombres 💯 instructions 📐 sons 🔉 etc.  \n",
    "\n",
    "---\n",
    "\n",
    "Chaque endroit de la mémoire est numéroté, c'est l'adresse.  \n",
    "Comme une boite avec une étiquette ! 🗳️  \n",
    "Chaque boite contient une valeur entre 0-255 (unsigned char / octet / byte) qui peut être lu, modifier"
   ]
  },
  {
   "cell_type": "markdown",
   "id": "a70c2863",
   "metadata": {
    "slideshow": {
     "slide_type": "subslide"
    }
   },
   "source": [
    "![memory](src/int_i.png)"
   ]
  },
  {
   "cell_type": "markdown",
   "id": "e2e7d5e4",
   "metadata": {
    "slideshow": {
     "slide_type": "subslide"
    }
   },
   "source": [
    "# Pourquoi utiliser un pointeur ? 🤔"
   ]
  },
  {
   "cell_type": "markdown",
   "id": "59751167",
   "metadata": {
    "slideshow": {
     "slide_type": "subslide"
    }
   },
   "source": [
    "![address and value](src/address.jpg)"
   ]
  },
  {
   "cell_type": "markdown",
   "id": "cf0b8e7a",
   "metadata": {
    "slideshow": {
     "slide_type": "fragment"
    }
   },
   "source": [
    "Pour faire \"hello\", on va mettre des chars les uns à la suite des autres et fermer la chaîne avec '\\0'  \n",
    "Ensuite on va stocker l'adresse du première élément 🗒️"
   ]
  },
  {
   "cell_type": "markdown",
   "id": "7aeed532",
   "metadata": {
    "slideshow": {
     "slide_type": "subslide"
    }
   },
   "source": [
    "![char etoile etoile](src/char_starstar.jpg)\n",
    "🔢 On utilise la même stratégie pour stocker plusieurs pointeurs"
   ]
  },
  {
   "cell_type": "markdown",
   "id": "f8096bf9",
   "metadata": {
    "slideshow": {
     "slide_type": "slide"
    }
   },
   "source": [
    "### Deux façons de créer un pointeur\n",
    "\n",
    "```c\n",
    "int *p1; // pointeur libre vers un int\n",
    "// ou\n",
    "int p2[10]; // pointeur fixe + allocation de 10 int dans la stack\n",
    "// p2 est l'adresse du premier int\n",
    "```"
   ]
  },
  {
   "cell_type": "markdown",
   "id": "9be5f542",
   "metadata": {
    "slideshow": {
     "slide_type": "subslide"
    }
   },
   "source": [
    "### ⚠️ L'étoile dans la déclaration indique le type (int*) et est différent de opérateur étoile\n",
    "\n",
    "### Exemple de code\n",
    "\n",
    "```c\n",
    "#include <stdio.h>\n",
    "#include <stdlib.h>\n",
    "#include <string.h>\n",
    "\n",
    "int main() {\n",
    "    char    c;\n",
    "    char    *p1; // déclaration d'un pointeur\n",
    "\n",
    "    c = 'a';\n",
    "    p1 = &c;\n",
    "    c = 'b';\n",
    "    printf(\"%c\\n\", *p1); // accès à la valeur à l'adresse p1 \n",
    "    return (0);\n",
    "}\n",
    "```"
   ]
  },
  {
   "cell_type": "markdown",
   "id": "2dfa34f5",
   "metadata": {
    "slideshow": {
     "slide_type": "slide"
    }
   },
   "source": [
    "## L'arithmétique des pointeurs en C 🎨\n",
    "\n",
    "L'arithmétique des pointeurs permet d'effectuer des opérations sur les pointeurs, telles que l'*addition*, la *soustraction* et la *comparaison*.  \n",
    "Cela est utile lors de la manipulation de tableaux ou de mémoire dynamique."
   ]
  },
  {
   "cell_type": "markdown",
   "id": "2e8170f1",
   "metadata": {
    "slideshow": {
     "slide_type": "fragment"
    }
   },
   "source": [
    "### 🅿️ Pour TOUT ptr faire ptr[i] == *(ptr + i)\n",
    "```c\n",
    "    ptr[i] == *(ptr + i); // équivalent\n",
    "    &ptr[i] == ptr + i; // équivalent\n",
    "```"
   ]
  },
  {
   "cell_type": "markdown",
   "id": "644416c6",
   "metadata": {
    "slideshow": {
     "slide_type": "subslide"
    }
   },
   "source": [
    "### 1. Comparaison\n",
    "\n",
    "Les pointeurs peuvent être comparés à l'aide d'opérateurs relationnels.\n",
    "\n",
    "```c\n",
    "#include <stdio.h>\n",
    "\n",
    "int main() {\n",
    "    int arr[] = {10, 20, 30, 40};\n",
    "    int *ptr1 = arr;\n",
    "    int *ptr2 = arr + 2;\n",
    "\n",
    "    if (ptr1 < ptr2)\n",
    "        printf(\"ptr1 pointe vers un élément avant ptr2\\n\");\n",
    "\n",
    "    return 0;\n",
    "}\n",
    "```"
   ]
  },
  {
   "cell_type": "markdown",
   "id": "c21fb894",
   "metadata": {
    "slideshow": {
     "slide_type": "subslide"
    }
   },
   "source": [
    "### A SAVOIR ❗\n",
    "\n",
    "L'adresse stocker par le pointeur est augmenté de la taille du type de données pointé.  \n",
    "Voir code/sizeoftypes.c"
   ]
  },
  {
   "cell_type": "markdown",
   "id": "f71ff88f",
   "metadata": {
    "slideshow": {
     "slide_type": "subslide"
    }
   },
   "source": [
    "### 2. Addition\n",
    "\n",
    "Vous pouvez ajouter un entier à un pointeur pour le déplacer vers l'avant de ce nombre d'éléments.\n",
    "\n",
    "```c\n",
    "#include <stdio.h>\n",
    "\n",
    "int main() {\n",
    "    int arr[] = {10, 20, 30, 40};\n",
    "    int *ptr = arr;\n",
    "\n",
    "    printf(\"Premier élément : %d\\n\", *ptr);         // 10\n",
    "    printf(\"Troisième élément : %d\\n\", *(ptr + 2)); // 30\n",
    "    return (0);\n",
    "}\n",
    "```"
   ]
  },
  {
   "cell_type": "markdown",
   "id": "4b4c1929",
   "metadata": {
    "slideshow": {
     "slide_type": "subslide"
    }
   },
   "source": [
    "### 3. Soustraction\n",
    "\n",
    "Vous pouvez soustraire un entier d'un pointeur, ou soustraire deux pointeurs pour trouver la distance entre eux."
   ]
  },
  {
   "cell_type": "code",
   "execution_count": 3,
   "id": "612b19d8",
   "metadata": {
    "slideshow": {
     "slide_type": "fragment"
    }
   },
   "outputs": [
    {
     "data": {
      "text/markdown": [
       "```c\n",
       "#include <stdio.h>\n",
       "\n",
       "size_t\tmy_strlen(char *str)\n",
       "{\n",
       "\tchar\t*end;\n",
       "\n",
       "\tend = str;\n",
       "\twhile (*end)\n",
       "\t\tend++;\n",
       "\treturn (end - str);\n",
       "}\n",
       "\n",
       "```"
      ],
      "text/plain": [
       "<IPython.core.display.Markdown object>"
      ]
     },
     "metadata": {},
     "output_type": "display_data"
    }
   ],
   "source": [
    "with open(r\"code/fun_strlen.c\") as f:\n",
    "    code = f.read()\n",
    "display(Markdown(f\"```c\\n{code}\\n```\"))"
   ]
  },
  {
   "cell_type": "markdown",
   "id": "aa1c0002",
   "metadata": {},
   "source": [
    "# type casting\n",
    "\n",
    "▶️ voir code/ptr_cast.c\n",
    "\n",
    "🔄 Le type casting est la conversion d'une variable d'un type à un autre."
   ]
  },
  {
   "cell_type": "markdown",
   "id": "779bb8f7",
   "metadata": {
    "slideshow": {
     "slide_type": "slide"
    }
   },
   "source": [
    "# Comment est structuré la mémoire 📚"
   ]
  },
  {
   "cell_type": "markdown",
   "id": "528b745b",
   "metadata": {
    "slideshow": {
     "slide_type": "subslide"
    }
   },
   "source": [
    "![memory layout](src/Memory_Layout.jpg)"
   ]
  },
  {
   "cell_type": "markdown",
   "id": "c74e1464",
   "metadata": {
    "slideshow": {
     "slide_type": "fragment"
    }
   },
   "source": [
    "- **Le code (Text):** Contient les instructions du programme. Généralement en lecture seule.\n",
    "- **Les données initialisées (Data):** Variables globales et statiques initialisées.\n",
    "- **Les données non-initialisées (BSS):** Variables globales et statiques non initialisées.\n",
    "- **La pile (Stack):** Utilisée pour les variables locales et les appels de fonctions. Gérée automatiquement.\n",
    "- **Le tas (Heap):** Zone de mémoire dynamique pour l'allocation manuelle (malloc, free)."
   ]
  },
  {
   "cell_type": "markdown",
   "id": "9b82635d",
   "metadata": {
    "slideshow": {
     "slide_type": "slide"
    }
   },
   "source": [
    "## La stack en C : Appel de fonction 🐐\n",
    "\n",
    "### Ce qu'il faut retenir:\n",
    "- Les variables locales sont stockées sur la stack\n",
    "- Les variables locales d'une fonction sont libérés quand la fonction se termine (return)\n",
    "- Les arguments sont **COPIER** et deviennent des variables locales\n",
    "- La stack est géré par le compilateur\n"
   ]
  },
  {
   "cell_type": "markdown",
   "id": "427095a4",
   "metadata": {},
   "source": [
    "#### 💡Comme ta fonction main est return seulement à la fin, toute les variables initialisés dans le main reste disponible"
   ]
  },
  {
   "cell_type": "markdown",
   "id": "c643cb5d",
   "metadata": {
    "slideshow": {
     "slide_type": "subslide"
    }
   },
   "source": [
    "### Très bonne vidéo explicative en anglais 🥇\n",
    "\n",
    "<iframe width=\"560\" height=\"315\" src=\"https://www.youtube.com/embed/N3o5yHYLviQ?si=zdaWaPvSZktrjChK\" title=\"YouTube video player\" frameborder=\"0\" allow=\"accelerometer; autoplay; clipboard-write; encrypted-media; gyroscope; picture-in-picture; web-share\" referrerpolicy=\"strict-origin-when-cross-origin\" allowfullscreen></iframe>"
   ]
  },
  {
   "cell_type": "markdown",
   "id": "7dabde7b",
   "metadata": {
    "slideshow": {
     "slide_type": "slide"
    }
   },
   "source": [
    "## Visualise la stack et la heap de ton code avec [pythontutor](https://pythontutor.com/visualize.html#code=void%20%20uppercase_it%28char%20*str%29%0A%7B%0A%20%20while%20%28*str%29%0A%20%20%7B%0A%20%20%20%20if%20%28*str%20%3E%3D%20'a'%20%26%26%20*str%20%3C%3D%20'z'%29%0A%20%20%20%20%20%20*str%20%2B%3D%20'A'%20-%20'a'%3B%0A%20%20%20%20str%2B%2B%3B%0A%20%20%7D%0A%7D%0A%0Avoid%20%20foo%28char%20*str%29%0A%7B%0A%20%20str%20%3D%20str%20%2B%2069%3B%0A%7D%0A%0Aint%20main%28void%29%20%0A%7B%0A%20%20char%20%20%20%20%20%20%20%20*arr%3B%0A%20%20const%20char%20%20*blabla%20%3D%20%22hello%20world%22%3B%0A%20%20%0A%20%20arr%20%3D%20malloc%283%29%3B%0A%20%20foo%28arr%29%3B%0A%20%20arr%5B2%5D%20%3D%200%3B%0A%20%20arr%5B0%5D%20%3D%20'a'%3B%0A%20%20arr%5B1%5D%20%3D%20'b'%3B%0A%20%20uppercase_it%28arr%29%3B%0A%20%20write%281,%20blabla,%205%29%3B%0A%20%20free%28arr%29%3B%0A%20%20return%200%3B%0A%7D&cumulative=false&heapPrimitives=nevernest&mode=edit&origin=opt-frontend.js&py=c_gcc9.3.0&rawInputLstJSON=%5B%5D&textReferences=false) ! ✨"
   ]
  },
  {
   "cell_type": "code",
   "execution_count": null,
   "id": "4c36ebbd",
   "metadata": {
    "slideshow": {
     "slide_type": "skip"
    }
   },
   "outputs": [],
   "source": [
    "# jupyter nbconvert prez.ipynb --to slides --TemplateExporter.exclude_input=True --post serve"
   ]
  }
 ],
 "metadata": {
  "kernelspec": {
   "display_name": "Fun",
   "language": "python",
   "name": "python3"
  },
  "language_info": {
   "codemirror_mode": {
    "name": "ipython",
    "version": 3
   },
   "file_extension": ".py",
   "mimetype": "text/x-python",
   "name": "python",
   "nbconvert_exporter": "python",
   "pygments_lexer": "ipython3",
   "version": "3.12.2"
  }
 },
 "nbformat": 4,
 "nbformat_minor": 5
}
